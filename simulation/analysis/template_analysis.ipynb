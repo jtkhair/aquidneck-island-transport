{
 "cells": [
  {
   "cell_type": "markdown",
   "metadata": {},
   "source": [
    "# Basic TripInfo Data Analysis\n",
    "This notebook plots some basic statistics from the tripinfo simulation output."
   ]
  },
  {
   "cell_type": "code",
   "execution_count": 1,
   "metadata": {
    "collapsed": true
   },
   "outputs": [],
   "source": [
    "import pandas as pd\n",
    "import matplotlib.pyplot as plt"
   ]
  },
  {
   "cell_type": "markdown",
   "metadata": {},
   "source": [
    "The output xml data needs to be converted to csv using the SUMO command line tool `xml2csv.py`, which is found in the `<SUMO_HOME>\\tools\\xml` directory."
   ]
  },
  {
   "cell_type": "code",
   "execution_count": 2,
   "metadata": {
    "collapsed": true
   },
   "outputs": [],
   "source": [
    "data = pd.read_csv(\"../baseline_sim/output/baseline_tripinfo.csv\", sep=';')"
   ]
  },
  {
   "cell_type": "code",
   "execution_count": 3,
   "metadata": {},
   "outputs": [
    {
     "data": {
      "text/html": [
       "<div>\n",
       "<style scoped>\n",
       "    .dataframe tbody tr th:only-of-type {\n",
       "        vertical-align: middle;\n",
       "    }\n",
       "\n",
       "    .dataframe tbody tr th {\n",
       "        vertical-align: top;\n",
       "    }\n",
       "\n",
       "    .dataframe thead th {\n",
       "        text-align: right;\n",
       "    }\n",
       "</style>\n",
       "<table border=\"1\" class=\"dataframe\">\n",
       "  <thead>\n",
       "    <tr style=\"text-align: right;\">\n",
       "      <th></th>\n",
       "      <th>tripinfo_arrival</th>\n",
       "      <th>tripinfo_arrivalLane</th>\n",
       "      <th>tripinfo_arrivalPos</th>\n",
       "      <th>tripinfo_arrivalSpeed</th>\n",
       "      <th>tripinfo_depart</th>\n",
       "      <th>tripinfo_departDelay</th>\n",
       "      <th>tripinfo_departLane</th>\n",
       "      <th>tripinfo_departPos</th>\n",
       "      <th>tripinfo_departSpeed</th>\n",
       "      <th>tripinfo_devices</th>\n",
       "      <th>...</th>\n",
       "      <th>tripinfo_id</th>\n",
       "      <th>tripinfo_rerouteNo</th>\n",
       "      <th>tripinfo_routeLength</th>\n",
       "      <th>tripinfo_speedFactor</th>\n",
       "      <th>tripinfo_stopTime</th>\n",
       "      <th>tripinfo_timeLoss</th>\n",
       "      <th>tripinfo_vType</th>\n",
       "      <th>tripinfo_vaporized</th>\n",
       "      <th>tripinfo_waitingCount</th>\n",
       "      <th>tripinfo_waitingTime</th>\n",
       "    </tr>\n",
       "  </thead>\n",
       "  <tbody>\n",
       "    <tr>\n",
       "      <th>0</th>\n",
       "      <td>211.0</td>\n",
       "      <td>329995330#4_1</td>\n",
       "      <td>24.83</td>\n",
       "      <td>9.73</td>\n",
       "      <td>23.0</td>\n",
       "      <td>-0.05</td>\n",
       "      <td>511366397_0</td>\n",
       "      <td>5.1</td>\n",
       "      <td>4.93</td>\n",
       "      <td>tripinfo_391 routing_391</td>\n",
       "      <td>...</td>\n",
       "      <td>391</td>\n",
       "      <td>1</td>\n",
       "      <td>1283.15</td>\n",
       "      <td>0.89</td>\n",
       "      <td>0.0</td>\n",
       "      <td>46.63</td>\n",
       "      <td>DEFAULT_VEHTYPE</td>\n",
       "      <td>NaN</td>\n",
       "      <td>1</td>\n",
       "      <td>22.0</td>\n",
       "    </tr>\n",
       "    <tr>\n",
       "      <th>1</th>\n",
       "      <td>212.0</td>\n",
       "      <td>19357991#2_0</td>\n",
       "      <td>170.35</td>\n",
       "      <td>7.33</td>\n",
       "      <td>54.0</td>\n",
       "      <td>-0.47</td>\n",
       "      <td>-19359987_0</td>\n",
       "      <td>5.1</td>\n",
       "      <td>11.71</td>\n",
       "      <td>tripinfo_543 routing_543</td>\n",
       "      <td>...</td>\n",
       "      <td>543</td>\n",
       "      <td>1</td>\n",
       "      <td>1440.65</td>\n",
       "      <td>1.05</td>\n",
       "      <td>0.0</td>\n",
       "      <td>32.69</td>\n",
       "      <td>DEFAULT_VEHTYPE</td>\n",
       "      <td>NaN</td>\n",
       "      <td>1</td>\n",
       "      <td>2.0</td>\n",
       "    </tr>\n",
       "    <tr>\n",
       "      <th>2</th>\n",
       "      <td>220.0</td>\n",
       "      <td>19357114#3_0</td>\n",
       "      <td>125.59</td>\n",
       "      <td>9.56</td>\n",
       "      <td>2.0</td>\n",
       "      <td>-0.83</td>\n",
       "      <td>19352058_0</td>\n",
       "      <td>5.1</td>\n",
       "      <td>10.49</td>\n",
       "      <td>tripinfo_283 routing_283</td>\n",
       "      <td>...</td>\n",
       "      <td>283</td>\n",
       "      <td>1</td>\n",
       "      <td>1623.81</td>\n",
       "      <td>0.94</td>\n",
       "      <td>0.0</td>\n",
       "      <td>60.17</td>\n",
       "      <td>DEFAULT_VEHTYPE</td>\n",
       "      <td>NaN</td>\n",
       "      <td>1</td>\n",
       "      <td>39.0</td>\n",
       "    </tr>\n",
       "    <tr>\n",
       "      <th>3</th>\n",
       "      <td>228.0</td>\n",
       "      <td>-19356452#2_0</td>\n",
       "      <td>92.05</td>\n",
       "      <td>10.73</td>\n",
       "      <td>4.0</td>\n",
       "      <td>-0.77</td>\n",
       "      <td>19355160#0_0</td>\n",
       "      <td>5.1</td>\n",
       "      <td>11.30</td>\n",
       "      <td>tripinfo_519 routing_519</td>\n",
       "      <td>...</td>\n",
       "      <td>519</td>\n",
       "      <td>1</td>\n",
       "      <td>2290.30</td>\n",
       "      <td>1.01</td>\n",
       "      <td>0.0</td>\n",
       "      <td>18.50</td>\n",
       "      <td>DEFAULT_VEHTYPE</td>\n",
       "      <td>NaN</td>\n",
       "      <td>0</td>\n",
       "      <td>0.0</td>\n",
       "    </tr>\n",
       "    <tr>\n",
       "      <th>4</th>\n",
       "      <td>231.0</td>\n",
       "      <td>19357114#3_0</td>\n",
       "      <td>125.59</td>\n",
       "      <td>11.09</td>\n",
       "      <td>46.0</td>\n",
       "      <td>-0.90</td>\n",
       "      <td>19357539#1_0</td>\n",
       "      <td>5.1</td>\n",
       "      <td>11.47</td>\n",
       "      <td>tripinfo_571 routing_571</td>\n",
       "      <td>...</td>\n",
       "      <td>571</td>\n",
       "      <td>1</td>\n",
       "      <td>1834.07</td>\n",
       "      <td>1.03</td>\n",
       "      <td>0.0</td>\n",
       "      <td>22.14</td>\n",
       "      <td>DEFAULT_VEHTYPE</td>\n",
       "      <td>NaN</td>\n",
       "      <td>0</td>\n",
       "      <td>0.0</td>\n",
       "    </tr>\n",
       "  </tbody>\n",
       "</table>\n",
       "<p>5 rows × 21 columns</p>\n",
       "</div>"
      ],
      "text/plain": [
       "   tripinfo_arrival tripinfo_arrivalLane  tripinfo_arrivalPos  \\\n",
       "0             211.0        329995330#4_1                24.83   \n",
       "1             212.0         19357991#2_0               170.35   \n",
       "2             220.0         19357114#3_0               125.59   \n",
       "3             228.0        -19356452#2_0                92.05   \n",
       "4             231.0         19357114#3_0               125.59   \n",
       "\n",
       "   tripinfo_arrivalSpeed  tripinfo_depart  tripinfo_departDelay  \\\n",
       "0                   9.73             23.0                 -0.05   \n",
       "1                   7.33             54.0                 -0.47   \n",
       "2                   9.56              2.0                 -0.83   \n",
       "3                  10.73              4.0                 -0.77   \n",
       "4                  11.09             46.0                 -0.90   \n",
       "\n",
       "  tripinfo_departLane  tripinfo_departPos  tripinfo_departSpeed  \\\n",
       "0         511366397_0                 5.1                  4.93   \n",
       "1         -19359987_0                 5.1                 11.71   \n",
       "2          19352058_0                 5.1                 10.49   \n",
       "3        19355160#0_0                 5.1                 11.30   \n",
       "4        19357539#1_0                 5.1                 11.47   \n",
       "\n",
       "           tripinfo_devices          ...           tripinfo_id  \\\n",
       "0  tripinfo_391 routing_391          ...                   391   \n",
       "1  tripinfo_543 routing_543          ...                   543   \n",
       "2  tripinfo_283 routing_283          ...                   283   \n",
       "3  tripinfo_519 routing_519          ...                   519   \n",
       "4  tripinfo_571 routing_571          ...                   571   \n",
       "\n",
       "   tripinfo_rerouteNo  tripinfo_routeLength  tripinfo_speedFactor  \\\n",
       "0                   1               1283.15                  0.89   \n",
       "1                   1               1440.65                  1.05   \n",
       "2                   1               1623.81                  0.94   \n",
       "3                   1               2290.30                  1.01   \n",
       "4                   1               1834.07                  1.03   \n",
       "\n",
       "   tripinfo_stopTime  tripinfo_timeLoss   tripinfo_vType tripinfo_vaporized  \\\n",
       "0                0.0              46.63  DEFAULT_VEHTYPE                NaN   \n",
       "1                0.0              32.69  DEFAULT_VEHTYPE                NaN   \n",
       "2                0.0              60.17  DEFAULT_VEHTYPE                NaN   \n",
       "3                0.0              18.50  DEFAULT_VEHTYPE                NaN   \n",
       "4                0.0              22.14  DEFAULT_VEHTYPE                NaN   \n",
       "\n",
       "   tripinfo_waitingCount  tripinfo_waitingTime  \n",
       "0                      1                  22.0  \n",
       "1                      1                   2.0  \n",
       "2                      1                  39.0  \n",
       "3                      0                   0.0  \n",
       "4                      0                   0.0  \n",
       "\n",
       "[5 rows x 21 columns]"
      ]
     },
     "execution_count": 3,
     "metadata": {},
     "output_type": "execute_result"
    }
   ],
   "source": [
    "data.head()"
   ]
  },
  {
   "cell_type": "code",
   "execution_count": 4,
   "metadata": {},
   "outputs": [
    {
     "data": {
      "image/png": "[encoded data removed]",
      "text/plain": [
       "<Figure size 432x288 with 1 Axes>"
      ]
     },
     "metadata": {},
     "output_type": "display_data"
    }
   ],
   "source": [
    "data.tripinfo_timeLoss.hist()\n",
    "plt.show()"
   ]
  },
  {
   "cell_type": "code",
   "execution_count": 5,
   "metadata": {},
   "outputs": [
    {
     "data": {
      "image/png": "[encoded data removed]",
      "text/plain": [
       "<Figure size 432x288 with 1 Axes>"
      ]
     },
     "metadata": {},
     "output_type": "display_data"
    }
   ],
   "source": [
    "data.tripinfo_waitingTime.hist()\n",
    "plt.show()"
   ]
  },
  {
   "cell_type": "code",
   "execution_count": 6,
   "metadata": {},
   "outputs": [
    {
     "data": {
      "image/png": "[encoded data removed]",
      "text/plain": [
       "<Figure size 432x288 with 1 Axes>"
      ]
     },
     "metadata": {},
     "output_type": "display_data"
    }
   ],
   "source": [
    "data.tripinfo_routeLength.hist()\n",
    "plt.show()"
   ]
  },
  {
   "cell_type": "code",
   "execution_count": 7,
   "metadata": {},
   "outputs": [
    {
     "data": {
      "image/png": "[encoded data removed]",
      "text/plain": [
       "<Figure size 432x288 with 1 Axes>"
      ]
     },
     "metadata": {},
     "output_type": "display_data"
    }
   ],
   "source": [
    "data.plot.scatter(x='tripinfo_routeLength',y='tripinfo_timeLoss')\n",
    "plt.show()"
   ]
  },
  {
   "cell_type": "code",
   "execution_count": 8,
   "metadata": {},
   "outputs": [
    {
     "data": {
      "image/png": "[encoded data removed]",
      "text/plain": [
       "<Figure size 432x288 with 1 Axes>"
      ]
     },
     "metadata": {},
     "output_type": "display_data"
    }
   ],
   "source": [
    "data.tripinfo_speedFactor.hist()\n",
    "plt.show()"
   ]
  },
  {
   "cell_type": "code",
   "execution_count": null,
   "metadata": {
    "collapsed": true
   },
   "outputs": [],
   "source": []
  }
 ],
 "metadata": {
  "kernelspec": {
   "display_name": "Python 3",
   "language": "python",
   "name": "python3"
  },
  "language_info": {
   "codemirror_mode": {
    "name": "ipython",
    "version": 3
   },
   "file_extension": ".py",
   "mimetype": "text/x-python",
   "name": "python",
   "nbconvert_exporter": "python",
   "pygments_lexer": "ipython3",
   "version": "3.6.7"
  },
  "pycharm": {
   "stem_cell": {
    "cell_type": "raw",
    "metadata": {
     "collapsed": false
    },
    "source": []
   }
  }
 },
 "nbformat": 4,
 "nbformat_minor": 1
}
